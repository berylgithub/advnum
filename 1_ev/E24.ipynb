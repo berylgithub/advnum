{
 "cells": [
  {
   "cell_type": "code",
   "execution_count": 12,
   "metadata": {},
   "outputs": [
    {
     "name": "stdout",
     "output_type": "stream",
     "text": [
      "E24(i):\n",
      "y^{i+1} =  1.0 ; y^{i+1}' =  -0.1\n",
      "y^{i+1} =  0.99 ; y^{i+1}' =  -0.2\n",
      "y^{i+1} =  0.97 ; y^{i+1}' =  -0.29900000000000004\n",
      "y^{i+1} =  0.9400999999999999 ; y^{i+1}' =  -0.396\n",
      "\n",
      "E24(ii):\n",
      "y^{i+1} =  0.995 ; y^{i+1}' =  -0.1\n",
      "y^{i+1} =  0.980025 ; y^{i+1}' =  -0.1995\n",
      "y^{i+1} =  0.955174875 ; y^{i+1}' =  -0.2975025\n",
      "y^{i+1} =  0.920648750625 ; y^{i+1}' =  -0.3930199875\n"
     ]
    }
   ],
   "source": [
    "'''E24(i):'''\n",
    "print(\"E24(i):\")\n",
    "h = 0.1\n",
    "u = 1 #u_0 = y_0 = 1\n",
    "v = 0 #v_0 = y_0' = 0\n",
    "for i in range(4):\n",
    "    u1 = u + h*v #u_{k+1} = u_k + h*u_k', u_k' = v_k\n",
    "    v1 = v + h*(-u) #v_{k+1} = v_k + h*v_k', v_k' = -u_k\n",
    "    u = u1\n",
    "    v = v1\n",
    "    print(\"y^{i+1} = \", u,\"; y^{i+1}' = \",v)\n",
    "print()\n",
    "\n",
    "'''E24(ii):'''\n",
    "print(\"E24(ii):\")\n",
    "u = 1 #u_0 = y_0 = 1\n",
    "v = 0 #v_0 = y_0' = 0\n",
    "u1 = 0\n",
    "v1 = 0\n",
    "for i in range(4):\n",
    "    u1 = u + h*v + 0.5*(h**2)*(-u)\n",
    "    v1 = v + h*(-u)\n",
    "    u = u1\n",
    "    v = v1\n",
    "    print(\"y^{i+1} = \", u,\"; y^{i+1}' = \",v)"
   ]
  },
  {
   "cell_type": "code",
   "execution_count": null,
   "metadata": {},
   "outputs": [],
   "source": []
  }
 ],
 "metadata": {
  "kernelspec": {
   "display_name": "Python 3",
   "language": "python",
   "name": "python3"
  },
  "language_info": {
   "codemirror_mode": {
    "name": "ipython",
    "version": 3
   },
   "file_extension": ".py",
   "mimetype": "text/x-python",
   "name": "python",
   "nbconvert_exporter": "python",
   "pygments_lexer": "ipython3",
   "version": "3.7.3"
  }
 },
 "nbformat": 4,
 "nbformat_minor": 2
}
